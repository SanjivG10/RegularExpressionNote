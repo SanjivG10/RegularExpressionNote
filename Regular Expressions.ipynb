{
 "cells": [
  {
   "cell_type": "code",
   "execution_count": 1,
   "metadata": {},
   "outputs": [],
   "source": [
    "import re"
   ]
  },
  {
   "cell_type": "markdown",
   "metadata": {},
   "source": [
    "# re.compile(string,flag)\n",
    "Patterns are needed to tell what actually python wants. \n"
   ]
  },
  {
   "cell_type": "code",
   "execution_count": 18,
   "metadata": {},
   "outputs": [
    {
     "name": "stdout",
     "output_type": "stream",
     "text": [
      "re.compile('Sanjiv')\n"
     ]
    }
   ],
   "source": [
    "pattern = re.compile('Sanjiv')\n",
    "print(pattern)"
   ]
  },
  {
   "cell_type": "markdown",
   "metadata": {},
   "source": [
    "# Flag Ignorecase\n",
    "They are kept inside re.compile. Example shown below\n",
    "This will treat the word 'Sanjiv' and 'SANJiv' as same. Make it case insensitive.  \n"
   ]
  },
  {
   "cell_type": "code",
   "execution_count": 21,
   "metadata": {},
   "outputs": [
    {
     "name": "stdout",
     "output_type": "stream",
     "text": [
      "re.compile('ASanjivEE', re.IGNORECASE)\n"
     ]
    }
   ],
   "source": [
    "\n",
    "print(re.compile('ASanjivEE',re.I))"
   ]
  },
  {
   "cell_type": "markdown",
   "metadata": {},
   "source": [
    "# Performing Operations for those patterns\n",
    "We have several attributes to do the regular expression  operations. They will be discussed. \n"
   ]
  },
  {
   "cell_type": "markdown",
   "metadata": {},
   "source": [
    "# Match() \n",
    "re.match() takes on 3 arguments. string, starting position, ending position.\n",
    "So what does match do? They try to match. Determines if the regular expression matches at the beginning of the string as the value for starting position defaults to 0.It returns None if no result is found"
   ]
  },
  {
   "cell_type": "code",
   "execution_count": 32,
   "metadata": {},
   "outputs": [],
   "source": [
    "pattern = re.compile('hello')\n"
   ]
  },
  {
   "cell_type": "markdown",
   "metadata": {},
   "source": [
    "# Let's check if our text starts with the word hello "
   ]
  },
  {
   "cell_type": "code",
   "execution_count": 33,
   "metadata": {},
   "outputs": [
    {
     "data": {
      "text/plain": [
       "<re.Match object; span=(0, 5), match='hello'>"
      ]
     },
     "execution_count": 33,
     "metadata": {},
     "output_type": "execute_result"
    }
   ],
   "source": [
    "pattern.match('hello')"
   ]
  },
  {
   "cell_type": "markdown",
   "metadata": {},
   "source": [
    "# See it returns match object with span saying from which index to whichone. "
   ]
  },
  {
   "cell_type": "markdown",
   "metadata": {},
   "source": [
    "# Let's check for starting Position and ending Position of match() function. "
   ]
  },
  {
   "cell_type": "code",
   "execution_count": 37,
   "metadata": {},
   "outputs": [
    {
     "name": "stdout",
     "output_type": "stream",
     "text": [
      "None\n",
      "<re.Match object; span=(1, 6), match='hello'>\n",
      "(1, 6)\n"
     ]
    }
   ],
   "source": [
    "print(pattern.match('hello',1,5))\n",
    "print(pattern.match('xhellolakjsdklsad',1,10))\n",
    "print(pattern.match('xhellolakjsdklsad',1,10).span())"
   ]
  },
  {
   "cell_type": "markdown",
   "metadata": {},
   "source": [
    "# See what happened there. Pattern.match() in the first line doesn't work. As we start from 1 to 5. Since 1st index is e. \n",
    "# Similarly in second example, we started to look  from first index upto 10th index, if it is there, then it should have given us the answer. And lookout, it DID."
   ]
  },
  {
   "cell_type": "code",
   "execution_count": 40,
   "metadata": {},
   "outputs": [
    {
     "data": {
      "text/plain": [
       "<re.Match object; span=(0, 5), match='hello'>"
      ]
     },
     "execution_count": 40,
     "metadata": {},
     "output_type": "execute_result"
    }
   ],
   "source": [
    "pattern.match('hello hello')\n",
    "#It only returns one match object. So remember this\n",
    "#This is the line break for another topic"
   ]
  },
  {
   "cell_type": "markdown",
   "metadata": {},
   "source": [
    "# search(string,startPosition,endPosition)\n",
    "# Like match checks only at the beginning, it scans the entire string not only at the first. And if any matches found. A match object is returned"
   ]
  },
  {
   "cell_type": "code",
   "execution_count": 44,
   "metadata": {},
   "outputs": [
    {
     "data": {
      "text/plain": [
       "<re.Match object; span=(15, 20), match='hello'>"
      ]
     },
     "execution_count": 44,
     "metadata": {},
     "output_type": "execute_result"
    }
   ],
   "source": [
    "pattern.search('I am the man , hello bitch hello ',10,20)"
   ]
  },
  {
   "cell_type": "markdown",
   "metadata": {},
   "source": [
    "# Works like match object. But through the entire string. Starting from startPos and ending at endPos."
   ]
  },
  {
   "cell_type": "code",
   "execution_count": 45,
   "metadata": {},
   "outputs": [],
   "source": [
    "#Left Blank"
   ]
  },
  {
   "cell_type": "markdown",
   "metadata": {},
   "source": [
    "# findall(string, pos, endpos)\n",
    "# what was the drawback of search and match? They will return if they find one result. findall finds all. \n",
    "# The best thing about findall? They return string instead of match object unlike match() and search() function\n",
    "\n"
   ]
  },
  {
   "cell_type": "code",
   "execution_count": 48,
   "metadata": {},
   "outputs": [
    {
     "data": {
      "text/plain": [
       "['hello', 'hello', 'hello', 'hello']"
      ]
     },
     "execution_count": 48,
     "metadata": {},
     "output_type": "execute_result"
    }
   ],
   "source": [
    "pattern.findall('I just say hello. She said hello. and hello hello happend')"
   ]
  },
  {
   "cell_type": "markdown",
   "metadata": {},
   "source": [
    "# Why do I need this?\n",
    "# Well you are not going to write hello everytime. Do you? Instead we go for find me the digit, or number starting from this or that. So during that time, you use pattern.findall(). We will look into an example"
   ]
  },
  {
   "cell_type": "code",
   "execution_count": 12,
   "metadata": {},
   "outputs": [
    {
     "data": {
      "text/plain": [
       "['1', '2', '3', '4', '5', '6', '3']"
      ]
     },
     "execution_count": 12,
     "metadata": {},
     "output_type": "execute_result"
    }
   ],
   "source": [
    "pattern2 = re.compile(r'\\d')\n",
    "pattern2.findall('123 4 5 6 abasdja3sd ')"
   ]
  },
  {
   "cell_type": "markdown",
   "metadata": {},
   "source": [
    "# See . We used it to find number (digit) in the given text. So it was easy to find it. "
   ]
  },
  {
   "cell_type": "markdown",
   "metadata": {},
   "source": [
    "# Now you get the point right. findall(), match(), search() is not the hardest thing you will come across. The hardest thing in regex is pattern. So we will learn about it. JUST HOLD ON\n",
    "# I am not using finditer(). It returns iterator instead of string directly. Check it out yourself.It returns iterator of match objects"
   ]
  },
  {
   "cell_type": "code",
   "execution_count": 53,
   "metadata": {},
   "outputs": [
    {
     "name": "stdout",
     "output_type": "stream",
     "text": [
      "####################################################################################################\n"
     ]
    }
   ],
   "source": [
    "print(100*'#')"
   ]
  },
  {
   "cell_type": "markdown",
   "metadata": {},
   "source": [
    "# Searching for pattern using escape character. Check out compile for $10\n"
   ]
  },
  {
   "cell_type": "code",
   "execution_count": 71,
   "metadata": {},
   "outputs": [],
   "source": [
    "pattern = re.compile(r'10\\$')"
   ]
  },
  {
   "cell_type": "code",
   "execution_count": 72,
   "metadata": {},
   "outputs": [
    {
     "data": {
      "text/plain": [
       "<re.Match object; span=(7, 10), match='10$'>"
      ]
     },
     "execution_count": 72,
     "metadata": {},
     "output_type": "execute_result"
    }
   ],
   "source": [
    "pattern.search('I want 10$')"
   ]
  },
  {
   "cell_type": "markdown",
   "metadata": {},
   "source": [
    "# Some example. "
   ]
  },
  {
   "cell_type": "code",
   "execution_count": 2,
   "metadata": {},
   "outputs": [],
   "source": [
    "pattern = re.compile('C:\\/windows\\/system32',re.I)"
   ]
  },
  {
   "cell_type": "code",
   "execution_count": 11,
   "metadata": {},
   "outputs": [],
   "source": [
    "text = \"\"\"C:/windows/SYSTem32\n",
    "    C:/windows\n",
    "\"\"\""
   ]
  },
  {
   "cell_type": "code",
   "execution_count": 12,
   "metadata": {},
   "outputs": [
    {
     "data": {
      "text/plain": [
       "<re.Match object; span=(0, 19), match='C:/windows/SYSTem32'>"
      ]
     },
     "execution_count": 12,
     "metadata": {},
     "output_type": "execute_result"
    }
   ],
   "source": [
    "pattern.match(text)"
   ]
  },
  {
   "cell_type": "markdown",
   "metadata": {},
   "source": [
    "# What if we had \\ at the pattern itself?\n",
    "Python interpreter interprets '\\\\\\\\' as '\\\\'. So what we do is we have to use four '\\\\'"
   ]
  },
  {
   "cell_type": "code",
   "execution_count": 20,
   "metadata": {},
   "outputs": [],
   "source": [
    "pattern  = re.compile('c:\\\\\\\\Windows\\\\\\\\system32',re.I)"
   ]
  },
  {
   "cell_type": "code",
   "execution_count": 21,
   "metadata": {},
   "outputs": [
    {
     "data": {
      "text/plain": [
       "<re.Match object; span=(0, 19), match='c:\\\\Windows\\\\system32'>"
      ]
     },
     "execution_count": 21,
     "metadata": {},
     "output_type": "execute_result"
    }
   ],
   "source": [
    "pattern.match('c:\\Windows\\system32')"
   ]
  },
  {
   "cell_type": "markdown",
   "metadata": {},
   "source": [
    "# Boring to use 4 blackshashes? Use 2 to escape it using r'' in re.compile()"
   ]
  },
  {
   "cell_type": "code",
   "execution_count": 29,
   "metadata": {},
   "outputs": [],
   "source": [
    "pattern = re.compile(r'Sanjiv\\\\Gautam')\n",
    "# this will check for string like Sanjiv\\Gautam"
   ]
  },
  {
   "cell_type": "code",
   "execution_count": null,
   "metadata": {},
   "outputs": [],
   "source": []
  },
  {
   "cell_type": "markdown",
   "metadata": {},
   "source": [
    "# More INCOMING\n"
   ]
  },
  {
   "cell_type": "markdown",
   "metadata": {},
   "source": [
    "# Character Class"
   ]
  },
  {
   "cell_type": "code",
   "execution_count": 32,
   "metadata": {},
   "outputs": [],
   "source": [
    "pattern = re.compile(r'liscen[cs]e')"
   ]
  },
  {
   "cell_type": "code",
   "execution_count": 33,
   "metadata": {},
   "outputs": [
    {
     "data": {
      "text/plain": [
       "['liscense', 'liscense']"
      ]
     },
     "execution_count": 33,
     "metadata": {},
     "output_type": "execute_result"
    }
   ],
   "source": [
    "pattern.findall('liscense liscense')"
   ]
  },
  {
   "cell_type": "markdown",
   "metadata": {},
   "source": [
    "# See what it did there? \n",
    "[any character is placed here two brackets] "
   ]
  },
  {
   "cell_type": "markdown",
   "metadata": {},
   "source": [
    "# Character Range"
   ]
  },
  {
   "cell_type": "code",
   "execution_count": 34,
   "metadata": {},
   "outputs": [],
   "source": [
    "pattern = re.compile(r'[0-9]')\n",
    "pattern2 = re.compile(r'[a-z]')\n",
    "pattern3  =re.compile(r'[A-Z]')"
   ]
  },
  {
   "cell_type": "code",
   "execution_count": 41,
   "metadata": {},
   "outputs": [],
   "source": [
    "#Finding all the years in the text\n",
    "myPattern = re.compile(r'[1-9][0-9][0-9][0-9]')"
   ]
  },
  {
   "cell_type": "code",
   "execution_count": 42,
   "metadata": {},
   "outputs": [
    {
     "data": {
      "text/plain": [
       "['2000']"
      ]
     },
     "execution_count": 42,
     "metadata": {},
     "output_type": "execute_result"
    }
   ],
   "source": [
    "myPattern.findall('this is year 2000 and I am so sorry')"
   ]
  },
  {
   "cell_type": "code",
   "execution_count": 43,
   "metadata": {},
   "outputs": [],
   "source": [
    "#Let us negate too"
   ]
  },
  {
   "cell_type": "code",
   "execution_count": 48,
   "metadata": {},
   "outputs": [],
   "source": [
    "myPattern2 = re.compile(r'[0-9][0-9][^0-9][0-9]')\n",
    "# The pattern is looking for string with number,number,not a number and then number"
   ]
  },
  {
   "cell_type": "code",
   "execution_count": 49,
   "metadata": {},
   "outputs": [],
   "source": [
    "myPattern2.search('this is year 2000 and I am so sorry')\n"
   ]
  },
  {
   "cell_type": "code",
   "execution_count": 51,
   "metadata": {},
   "outputs": [
    {
     "data": {
      "text/plain": [
       "<re.Match object; span=(13, 17), match='20a0'>"
      ]
     },
     "execution_count": 51,
     "metadata": {},
     "output_type": "execute_result"
    }
   ],
   "source": [
    "myPattern2.search('this is year 20a0 and I am so sorry')\n",
    "#See the magic? "
   ]
  },
  {
   "cell_type": "code",
   "execution_count": 57,
   "metadata": {},
   "outputs": [
    {
     "data": {
      "text/plain": [
       "'AuioouoeeaO'"
      ]
     },
     "execution_count": 57,
     "metadata": {},
     "output_type": "execute_result"
    }
   ],
   "source": [
    "#Let us look at one more thing. Pattern to search for vowels\n",
    "pattern = re.compile(r'[aeiou]',re.I)\n",
    "''.join(pattern.findall('A Quick Brown Fox Jumps over the Lazy DOG'))"
   ]
  },
  {
   "cell_type": "code",
   "execution_count": 58,
   "metadata": {},
   "outputs": [
    {
     "data": {
      "text/plain": [
       "' Qck Brwn Fx Jmps vr th Lzy DG'"
      ]
     },
     "execution_count": 58,
     "metadata": {},
     "output_type": "execute_result"
    }
   ],
   "source": [
    "#How about text other than vowels?  \n",
    "pattern  = re.compile(r'[^aeiou]',re.I)\n",
    "''.join(pattern.findall('A Quick Brown Fox Jumps over the Lazy DOG'))"
   ]
  },
  {
   "cell_type": "markdown",
   "metadata": {},
   "source": [
    "# Predefined Character Classes\n",
    "# . => Any character except newline\n",
    "# \\d => decimal digit. So equivalent to writing [0-9]\n",
    "# \\D => Anything capital means opposite of its lowercase form. [^0-9]\n",
    "# \\s => whitespace character.\n",
    "# \\S => You know this\n",
    "# \\w => alphanumberic. equivalent to [a-zA-Z0-9]\n"
   ]
  },
  {
   "cell_type": "code",
   "execution_count": 59,
   "metadata": {},
   "outputs": [
    {
     "name": "stdout",
     "output_type": "stream",
     "text": [
      "####################################################################################################\n"
     ]
    }
   ],
   "source": [
    "#CHECK SOME EXAMPLE\n",
    "print(100*'#')"
   ]
  },
  {
   "cell_type": "code",
   "execution_count": null,
   "metadata": {},
   "outputs": [],
   "source": []
  },
  {
   "cell_type": "code",
   "execution_count": 66,
   "metadata": {},
   "outputs": [],
   "source": [
    "#Let us find the special characters (non alphanumeric in the text)"
   ]
  },
  {
   "cell_type": "code",
   "execution_count": 70,
   "metadata": {},
   "outputs": [],
   "source": [
    "pattern = re.compile(r'[^\\w\\s]')"
   ]
  },
  {
   "cell_type": "code",
   "execution_count": 71,
   "metadata": {},
   "outputs": [
    {
     "data": {
      "text/plain": [
       "['!',\n",
       " '@',\n",
       " '#',\n",
       " '$',\n",
       " '^',\n",
       " '&',\n",
       " '*',\n",
       " '$',\n",
       " '*',\n",
       " '(',\n",
       " '(',\n",
       " ')',\n",
       " ')',\n",
       " '+',\n",
       " '!',\n",
       " '@',\n",
       " ')',\n",
       " '#',\n",
       " '(',\n",
       " '!',\n",
       " '@',\n",
       " '#',\n",
       " '(',\n",
       " '*',\n",
       " ')',\n",
       " ')']"
      ]
     },
     "execution_count": 71,
     "metadata": {},
     "output_type": "execute_result"
    }
   ],
   "source": [
    "pattern.findall('!@#af$ds fa dsfa dsfa fds adfs^&*$*((adsf )afds a sdfasd f dsfa sdfa)_+_!@)#(!@#(*))')"
   ]
  },
  {
   "cell_type": "markdown",
   "metadata": {},
   "source": [
    "# Alteration Select between regular expression '|'"
   ]
  },
  {
   "cell_type": "code",
   "execution_count": 79,
   "metadata": {},
   "outputs": [],
   "source": [
    "pattern = re.compile(r'[a-zA-Z]|[0-9]')"
   ]
  },
  {
   "cell_type": "code",
   "execution_count": 80,
   "metadata": {},
   "outputs": [
    {
     "data": {
      "text/plain": [
       "['A', '9']"
      ]
     },
     "execution_count": 80,
     "metadata": {},
     "output_type": "execute_result"
    }
   ],
   "source": [
    "pattern.findall('! @ # $ % ^ & * ( ) A 9')"
   ]
  },
  {
   "cell_type": "code",
   "execution_count": 83,
   "metadata": {},
   "outputs": [],
   "source": [
    "#match this or this or this\n",
    "pattern = re.compile('Manchester United|Man Utd|United|Red Devils',re.I)"
   ]
  },
  {
   "cell_type": "code",
   "execution_count": 84,
   "metadata": {},
   "outputs": [
    {
     "data": {
      "text/plain": [
       "['Manchester United', 'Man Utd', 'United']"
      ]
     },
     "execution_count": 84,
     "metadata": {},
     "output_type": "execute_result"
    }
   ],
   "source": [
    "pattern.findall('Manchester United won. Man Utd won after a long time. United is the team for me')"
   ]
  },
  {
   "cell_type": "code",
   "execution_count": 89,
   "metadata": {},
   "outputs": [
    {
     "data": {
      "text/plain": [
       "['Who is', 'What is']"
      ]
     },
     "execution_count": 89,
     "metadata": {},
     "output_type": "execute_result"
    }
   ],
   "source": [
    "#Example\n",
    "#Search for Who is and what are question in the text\n",
    "pattern = re.compile('Who is|What is',re.I)\n",
    "pattern.findall('''\n",
    "Who is the most beautiful girl in the world?\n",
    "What is the things to be done?\n",
    "Are you single?\n",
    "''')"
   ]
  },
  {
   "cell_type": "markdown",
   "metadata": {},
   "source": [
    "# Quantifiers\n",
    " Element at the left of these quantifiers are checked. REMEMBER THAT\n",
    " * ? => 0 or 1 repetition\n",
    " * \\* => 0 or more times\n",
    " * \\+ => 1 or more times\n",
    " * {n,m} => minimum n times, max m times.. between n and m times\n",
    "     * {n}=> Exactly n times\n",
    "     * {n,} => at least n times\n",
    "     * {,m} => At most m times\n",
    "     * {n,m} => between n and m times\n",
    " "
   ]
  },
  {
   "cell_type": "code",
   "execution_count": 103,
   "metadata": {},
   "outputs": [
    {
     "data": {
      "text/plain": [
       "['dog', 'Dog']"
      ]
     },
     "execution_count": 103,
     "metadata": {},
     "output_type": "execute_result"
    }
   ],
   "source": [
    "# complication may come like\n",
    "# how would you do for 'dog' and 'dogs' in sentence? \n",
    "txt = 'dog is the good thing. Dogs are bad'\n",
    "pattern = re.compile(r'dog|dogs',re.I)\n",
    "pattern.findall(txt)\n"
   ]
  },
  {
   "cell_type": "markdown",
   "metadata": {},
   "source": [
    "# See it never found DOGS, but only dog. "
   ]
  },
  {
   "cell_type": "code",
   "execution_count": 108,
   "metadata": {},
   "outputs": [
    {
     "data": {
      "text/plain": [
       "['dog', 'Dogs']"
      ]
     },
     "execution_count": 108,
     "metadata": {},
     "output_type": "execute_result"
    }
   ],
   "source": [
    "pattern = re.compile(r'dogs?',re.I)\n",
    "pattern.findall(txt)"
   ]
  },
  {
   "cell_type": "markdown",
   "metadata": {},
   "source": [
    "# See we got DOGS and dog. Two different things. "
   ]
  },
  {
   "cell_type": "code",
   "execution_count": 112,
   "metadata": {},
   "outputs": [
    {
     "data": {
      "text/plain": [
       "['file1.txt', 'filekasdksa.txt', 'file56.txt']"
      ]
     },
     "execution_count": 112,
     "metadata": {},
     "output_type": "execute_result"
    }
   ],
   "source": [
    "#find the filenames starting with file and ending with .txt in given text\n",
    "pattern = re.compile(r'file\\w*\\.txt',re.I)\n",
    "txt = \"\"\"\n",
    "file1.txt\n",
    "file2.exe\n",
    "filekasdksa.txt.123123\n",
    "fi.txt\n",
    "file.xml\n",
    "file56.txt\n",
    "\"\"\"\n",
    "pattern.findall(txt)\n"
   ]
  },
  {
   "cell_type": "markdown",
   "metadata": {},
   "source": [
    "# How do I read that? file.*\\.txt\n",
    "text starts with file, followed by alphanumeric any number of times\n",
    "ending with .txt\n"
   ]
  },
  {
   "cell_type": "code",
   "execution_count": 115,
   "metadata": {},
   "outputs": [
    {
     "data": {
      "text/plain": [
       "['file1.txt', 'file56.txt']"
      ]
     },
     "execution_count": 115,
     "metadata": {},
     "output_type": "execute_result"
    }
   ],
   "source": [
    "#find the filenames starting with file, followed by 1 or more digits \n",
    "#and ending with .txt in given text\n",
    "pattern = re.compile(r'file[0-9]+.txt')\n",
    "pattern.findall(txt)"
   ]
  },
  {
   "cell_type": "markdown",
   "metadata": {},
   "source": [
    "# Greedy vs Non-Greedy Quantifiers\n",
    "Greedy => Go on finding match. Don't stop if you find one. You might find another\n",
    "<br>\n",
    "Non-Greedy => Found a match? Return it immediately. "
   ]
  },
  {
   "cell_type": "code",
   "execution_count": 26,
   "metadata": {},
   "outputs": [],
   "source": [
    "pattern = re.compile(r'<.*>')\n",
    "text = '<html><head></head></html>'"
   ]
  },
  {
   "cell_type": "code",
   "execution_count": 27,
   "metadata": {},
   "outputs": [
    {
     "data": {
      "text/plain": [
       "['<html><head></head></html>']"
      ]
     },
     "execution_count": 27,
     "metadata": {},
     "output_type": "execute_result"
    }
   ],
   "source": [
    "pattern.findall(text)"
   ]
  },
  {
   "cell_type": "markdown",
   "metadata": {},
   "source": [
    "# See I din't get html, head, head, html  as separate entity, rather got all of them\n",
    "# Its because * is a greedy quantifier, it continues to search despite matching"
   ]
  },
  {
   "cell_type": "code",
   "execution_count": 28,
   "metadata": {},
   "outputs": [
    {
     "name": "stdout",
     "output_type": "stream",
     "text": [
      "####################################################################################################\n"
     ]
    }
   ],
   "source": [
    "print(100*'#')"
   ]
  },
  {
   "cell_type": "markdown",
   "metadata": {},
   "source": [
    "# Non greedy behavior. Put ? after the greedy quantifier"
   ]
  },
  {
   "cell_type": "code",
   "execution_count": 29,
   "metadata": {},
   "outputs": [
    {
     "data": {
      "text/plain": [
       "['<html>', '<head>', '</head>', '</html>']"
      ]
     },
     "execution_count": 29,
     "metadata": {},
     "output_type": "execute_result"
    }
   ],
   "source": [
    "pattern = re.compile(r'<.*?>')\n",
    "pattern.findall(text)\n",
    "#See ITS AMAZING! "
   ]
  },
  {
   "cell_type": "markdown",
   "metadata": {},
   "source": [
    "# Boundary Matchers"
   ]
  },
  {
   "cell_type": "code",
   "execution_count": 15,
   "metadata": {},
   "outputs": [],
   "source": [
    "#What if we want to find words like 'and','or','the' in the word\n",
    "pattern = re.compile('and|or|the')\n",
    "text = 'I am the man of words or Standard is maintained. Voorer'"
   ]
  },
  {
   "cell_type": "code",
   "execution_count": 16,
   "metadata": {},
   "outputs": [
    {
     "data": {
      "text/plain": [
       "['the', 'or', 'or', 'and', 'or']"
      ]
     },
     "execution_count": 16,
     "metadata": {},
     "output_type": "execute_result"
    }
   ],
   "source": [
    "pattern.findall(text)"
   ]
  },
  {
   "cell_type": "code",
   "execution_count": 17,
   "metadata": {},
   "outputs": [],
   "source": [
    "# It is getting the from standard, or from Voorer.\n",
    "# We want only the independent string\n",
    "# I know you must be thinking about using space in front of those words like\n"
   ]
  },
  {
   "cell_type": "code",
   "execution_count": 18,
   "metadata": {},
   "outputs": [
    {
     "data": {
      "text/plain": [
       "['the', 'or']"
      ]
     },
     "execution_count": 18,
     "metadata": {},
     "output_type": "execute_result"
    }
   ],
   "source": [
    "pattern = re.compile(r'\\s(and|or|the)\\s')\n",
    "pattern.findall(text)"
   ]
  },
  {
   "cell_type": "code",
   "execution_count": 20,
   "metadata": {},
   "outputs": [
    {
     "data": {
      "text/plain": [
       "['the', 'or']"
      ]
     },
     "execution_count": 20,
     "metadata": {},
     "output_type": "execute_result"
    }
   ],
   "source": [
    "#But what if we want words like 'I am the man or .and. I was the one'. The .and. won't be included by it. \n",
    "# So we use boundary matchers like \\b\n",
    "#watch me\n",
    "pattern = re.compile(r'\\b(and|or|the)\\b')\n",
    "pattern.findall(text)\n"
   ]
  },
  {
   "cell_type": "markdown",
   "metadata": {},
   "source": [
    "# Common used Word Boundries\n",
    "* \\b => Word boundary (just did above)\n",
    "<br>\n",
    "* ^ => Matches at the beginning of the LINE (check \\A)\n",
    "* \\$ => Matches at the end of the LINE (check \\Z)\n",
    "<br>\n",
    "* \\\\B => Opposite of \\b. Anything other than word boundary\n",
    "<br>\n",
    "* \\\\A => Matches at the beginning of the input (whole input, watch out ^)\n",
    "<br>\n",
    "* \\Z => Matches at the end of the input (whole input, watch out $)\n"
   ]
  },
  {
   "cell_type": "code",
   "execution_count": null,
   "metadata": {},
   "outputs": [],
   "source": []
  },
  {
   "cell_type": "code",
   "execution_count": 10,
   "metadata": {},
   "outputs": [],
   "source": [
    "#Why this behavior here? I mean, \\w+ is any alphabets that comes along. But when\n",
    "# does the regex knows where to break it? when it comes to space."
   ]
  },
  {
   "cell_type": "code",
   "execution_count": 82,
   "metadata": {},
   "outputs": [],
   "source": [
    "#Find the text where every line starts with Name: or ends with surname=\n",
    "txt = \"\"\"\n",
    "Name: Sanjiv surname: Gautam\n",
    "Name=> Sanjiv surname=> Gautam\n",
    "Name: Sanjiv surname=Gautam\"\"\""
   ]
  },
  {
   "cell_type": "code",
   "execution_count": 75,
   "metadata": {},
   "outputs": [],
   "source": [
    "pattern = re.compile(r'^Name:.*Surname:.*$',re.I)"
   ]
  },
  {
   "cell_type": "code",
   "execution_count": 76,
   "metadata": {},
   "outputs": [
    {
     "data": {
      "text/plain": [
       "[]"
      ]
     },
     "execution_count": 76,
     "metadata": {},
     "output_type": "execute_result"
    }
   ],
   "source": [
    "pattern.findall(txt)"
   ]
  },
  {
   "cell_type": "code",
   "execution_count": 77,
   "metadata": {},
   "outputs": [],
   "source": [
    "# What the hell happend? It should have given us the result?"
   ]
  },
  {
   "cell_type": "markdown",
   "metadata": {},
   "source": [
    "# Behold another FLAG re.M (Multiline)"
   ]
  },
  {
   "cell_type": "code",
   "execution_count": 99,
   "metadata": {},
   "outputs": [],
   "source": [
    "pattern = re.compile(r'^Name=>.*surname=>.*$',re.I|re.M)"
   ]
  },
  {
   "cell_type": "code",
   "execution_count": 100,
   "metadata": {},
   "outputs": [
    {
     "data": {
      "text/plain": [
       "['Name=> Sanjiv surname=> Gautam']"
      ]
     },
     "execution_count": 100,
     "metadata": {},
     "output_type": "execute_result"
    }
   ],
   "source": [
    "pattern.findall(txt)"
   ]
  },
  {
   "cell_type": "code",
   "execution_count": 101,
   "metadata": {},
   "outputs": [
    {
     "data": {
      "text/plain": [
       "['Name: Sanjiv surname=Gautam']"
      ]
     },
     "execution_count": 101,
     "metadata": {},
     "output_type": "execute_result"
    }
   ],
   "source": [
    "pattern = re.compile(r'^Name:.*surname=.*$',re.I|re.M)\n",
    "pattern.findall(txt)"
   ]
  },
  {
   "cell_type": "code",
   "execution_count": 128,
   "metadata": {},
   "outputs": [],
   "source": [
    "# Find all the sentences that do not end with fullstops\n",
    "text = '''\n",
    "Hello there. I am here for you\n",
    "So I took what mine.   \n",
    "It may be over, but I wont stop\n",
    "I am here for you, \n",
    "took my hear and took my soul.                   \n",
    "Love is blind and that I knew it#\n",
    "I heart is blinded by you, kissed your lips.\n",
    "And held your hands\n",
    "$\n",
    ".\n",
    "shared your dream and share your bed%\n",
    "'''"
   ]
  },
  {
   "cell_type": "code",
   "execution_count": 129,
   "metadata": {},
   "outputs": [],
   "source": []
  },
  {
   "cell_type": "code",
   "execution_count": 130,
   "metadata": {},
   "outputs": [
    {
     "data": {
      "text/plain": [
       "['Hello there. I am here for you',\n",
       " 'So I took what mine.   ',\n",
       " 'It may be over, but I wont stop',\n",
       " 'I am here for you, ',\n",
       " 'took my hear and took my soul.                   ',\n",
       " 'Love is blind and that I knew it#',\n",
       " 'And held your hands',\n",
       " '$',\n",
       " 'shared your dream and share your bed%\\n']"
      ]
     },
     "execution_count": 130,
     "metadata": {},
     "output_type": "execute_result"
    }
   ],
   "source": [
    "pattern.findall(text)"
   ]
  },
  {
   "cell_type": "code",
   "execution_count": 132,
   "metadata": {},
   "outputs": [
    {
     "data": {
      "text/plain": [
       "['Hello there. I am here for you',\n",
       " 'It may be over, but I wont stop',\n",
       " 'Love is blind and that I knew it#',\n",
       " 'And held your hands',\n",
       " '$',\n",
       " 'shared your dream and share your bed%']"
      ]
     },
     "execution_count": 132,
     "metadata": {},
     "output_type": "execute_result"
    }
   ],
   "source": [
    "# Hey I got that like 'So I took whats mine. '\n",
    "# Because its doesnt just end with . its also ends with space so , we need to handle that as well\n",
    "pattern = re.compile(r'.*[^\\.|\\.\\s]$',re.I|re.M)\n",
    "pattern.findall(text)\n",
    "#  we added |\\.\\s to ensure it watches spaces after that! "
   ]
  },
  {
   "cell_type": "markdown",
   "metadata": {},
   "source": [
    "# Splitting\n"
   ]
  },
  {
   "cell_type": "code",
   "execution_count": 133,
   "metadata": {},
   "outputs": [],
   "source": [
    "# Use pattern.split(txt)"
   ]
  },
  {
   "cell_type": "markdown",
   "metadata": {},
   "source": [
    "# pattern.split(txt,maxsplit=3). Split 3 as the pattern and leave the rest "
   ]
  },
  {
   "cell_type": "markdown",
   "metadata": {},
   "source": [
    "# Substitution  pattern.sub(\"-\",txt). All those matching pattern, subsitute - in place of it"
   ]
  },
  {
   "cell_type": "code",
   "execution_count": 2,
   "metadata": {},
   "outputs": [
    {
     "name": "stdout",
     "output_type": "stream",
     "text": [
      "##########\n"
     ]
    }
   ],
   "source": [
    "print(10*'#')"
   ]
  },
  {
   "cell_type": "code",
   "execution_count": 43,
   "metadata": {},
   "outputs": [],
   "source": [
    "#Self pRactise\n",
    "#Find the word that doesn't contain vowels\n",
    "txt = 'I am sorry maybe it was me who made the mistake. But it doesn\\'t matter now tt yy pp'\n"
   ]
  },
  {
   "cell_type": "code",
   "execution_count": 59,
   "metadata": {},
   "outputs": [
    {
     "data": {
      "text/plain": [
       "[' ',\n",
       " 'm',\n",
       " ' ',\n",
       " 's',\n",
       " 'r',\n",
       " 'r',\n",
       " 'y',\n",
       " ' ',\n",
       " 'm',\n",
       " 'y',\n",
       " 'b',\n",
       " ' ',\n",
       " 't',\n",
       " ' ',\n",
       " 'w',\n",
       " 's',\n",
       " ' ',\n",
       " 'm',\n",
       " ' ',\n",
       " 'w',\n",
       " 'h',\n",
       " ' ',\n",
       " 'm',\n",
       " 'd',\n",
       " ' ',\n",
       " 't',\n",
       " 'h',\n",
       " ' ',\n",
       " 'm',\n",
       " 's',\n",
       " 't',\n",
       " 'k',\n",
       " '.',\n",
       " ' ',\n",
       " 'B',\n",
       " 't',\n",
       " ' ',\n",
       " 't',\n",
       " ' ',\n",
       " 'd',\n",
       " 's',\n",
       " 'n',\n",
       " \"'\",\n",
       " 't',\n",
       " ' ',\n",
       " 'm',\n",
       " 't',\n",
       " 't',\n",
       " 'r',\n",
       " ' ',\n",
       " 'n',\n",
       " 'w',\n",
       " ' ',\n",
       " 't',\n",
       " 't',\n",
       " ' ',\n",
       " 'y',\n",
       " 'y',\n",
       " ' ',\n",
       " 'p',\n",
       " 'p']"
      ]
     },
     "execution_count": 59,
     "metadata": {},
     "output_type": "execute_result"
    }
   ],
   "source": [
    "pattern = re.compile(r'[^aeiou]|[abcdefghijklmnopqrstuvwxyz][]',re.I)\n",
    "pattern.findall(txt)"
   ]
  },
  {
   "cell_type": "markdown",
   "metadata": {},
   "source": [
    "# More FLAGS\n",
    "<br>\n",
    "re.I => make it case insensitive. \n",
    "<br>\n",
    "re.M => take multiline into consideration\n",
    "<br>\n",
    "re.S(re.DOTALL) => . matches any character except new line, but what if we want all text after it matches. It is done by re.S. When it is included in the flag, . character matches any character including newline\n",
    "<br>\n",
    "re.U => Unicode.   \n",
    "\n"
   ]
  },
  {
   "cell_type": "markdown",
   "metadata": {},
   "source": [
    "# Unicode\n",
    "We will use third party 'regex' module (install using pip install regex)"
   ]
  },
  {
   "cell_type": "markdown",
   "metadata": {},
   "source": [
    "# ASCII\n",
    "re.Locale => creates problem. So we go  to ASCII\n",
    "Only considers ascii that is a-z A-Z 0-9. "
   ]
  },
  {
   "cell_type": "markdown",
   "metadata": {},
   "source": [
    "# Grouping\n",
    "Place the regular expressoin inside the paranthesis to group it.\n",
    "<br>\n",
    "So what is grouping?"
   ]
  },
  {
   "cell_type": "code",
   "execution_count": 96,
   "metadata": {},
   "outputs": [
    {
     "data": {
      "text/plain": [
       "['ab', 'ab', 'ab', 'ab', 'abb', 'abbbb', 'abbb']"
      ]
     },
     "execution_count": 96,
     "metadata": {},
     "output_type": "execute_result"
    }
   ],
   "source": [
    "txt = 'aababababaabbaaabbbbaaabbb'\n",
    "#How many times ab is repeating?\n",
    "#this? \n",
    "pattern = re.compile(r'ab+',re.I)\n",
    "pattern.findall(txt)"
   ]
  },
  {
   "cell_type": "code",
   "execution_count": 97,
   "metadata": {},
   "outputs": [
    {
     "data": {
      "text/plain": [
       "['ab', 'ab', 'ab', 'ab']"
      ]
     },
     "execution_count": 97,
     "metadata": {},
     "output_type": "execute_result"
    }
   ],
   "source": [
    "# Certainly thats not what I wanted\n",
    "# I wanted ab ab ab ab ab right? How do I do that? \n",
    "# Use grouping\n",
    "pattern = re.compile(r'(ab)+',re.I)\n",
    "pattern.findall(txt)"
   ]
  },
  {
   "cell_type": "code",
   "execution_count": 98,
   "metadata": {},
   "outputs": [
    {
     "name": "stdout",
     "output_type": "stream",
     "text": [
      "<re.Match object; span=(1, 9), match='abababab'>\n",
      "<re.Match object; span=(10, 12), match='ab'>\n",
      "<re.Match object; span=(15, 17), match='ab'>\n",
      "<re.Match object; span=(22, 24), match='ab'>\n"
     ]
    }
   ],
   "source": [
    "#What it should be giving at least 6 by looking things at up\n",
    "pattern = re.compile(r'(ab)+',re.I)\n",
    "for x in pattern.finditer(txt):\n",
    "    print(x)"
   ]
  },
  {
   "cell_type": "code",
   "execution_count": 29,
   "metadata": {},
   "outputs": [
    {
     "data": {
      "text/plain": [
       "['ab', 'ab', 'ab', 'ab', 'ab', 'ab', 'ab', 'ab']"
      ]
     },
     "execution_count": 29,
     "metadata": {},
     "output_type": "execute_result"
    }
   ],
   "source": [
    "#See what it did? Greedy regex search. So we make it non greedy\n",
    "pattern = re.compile(r'(ab)+?',re.I)\n",
    "pattern.findall(txt)"
   ]
  },
  {
   "cell_type": "code",
   "execution_count": 53,
   "metadata": {},
   "outputs": [
    {
     "name": "stdout",
     "output_type": "stream",
     "text": [
      "['my name is sanjiv']\n",
      "['gautam']\n",
      "['sanjiv']\n",
      "['gautams']\n"
     ]
    }
   ],
   "source": [
    "# History repeats\n",
    "pattern = re.compile(r'my name is sanjiv|gautam')\n",
    "pattern2  =re.compile(r'my name is (sanjiv|gautams)')\n",
    "txt = 'my name is sanjiv'\n",
    "txt2 = 'my name is gautams'\n",
    "print(pattern.findall(txt))\n",
    "print(pattern.findall(txt2))\n",
    "print(pattern2.findall(txt))\n",
    "print(pattern2.findall(txt2))"
   ]
  },
  {
   "cell_type": "code",
   "execution_count": 99,
   "metadata": {},
   "outputs": [],
   "source": [
    "#Why the second last and last giving you sanjiv and gautams? \n",
    "# because of group capturing, we will see that again"
   ]
  },
  {
   "cell_type": "markdown",
   "metadata": {},
   "source": [
    "# Capturing (Most important work of grouping)"
   ]
  },
  {
   "cell_type": "code",
   "execution_count": 55,
   "metadata": {},
   "outputs": [
    {
     "data": {
      "text/plain": [
       "['12-02-2019']"
      ]
     },
     "execution_count": 55,
     "metadata": {},
     "output_type": "execute_result"
    }
   ],
   "source": [
    "txt = '12-02-2019'\n",
    "pattern = re.compile(r'\\d{2}-\\d{2}-\\d{4}')\n",
    "pattern.findall(txt)\n"
   ]
  },
  {
   "cell_type": "code",
   "execution_count": 63,
   "metadata": {},
   "outputs": [
    {
     "data": {
      "text/plain": [
       "('12', '02', '2019')"
      ]
     },
     "execution_count": 63,
     "metadata": {},
     "output_type": "execute_result"
    }
   ],
   "source": [
    "#What if we wanted them separately? \n",
    "pattern  = re.compile(r'(\\d{2})-(\\d{2})-(\\d{4})')\n",
    "pattern.findall(txt)[0]"
   ]
  },
  {
   "cell_type": "code",
   "execution_count": 64,
   "metadata": {},
   "outputs": [],
   "source": [
    "#lets do some other tasks\n",
    "#extract club name from the text below\n",
    "txt = '''\n",
    "club: Manchester United\n",
    "position = 1st\n",
    "club: Liverpool\n",
    "position = 2nd\n",
    "club: Barcelona\n",
    "position = 3rd \n",
    "'''\n",
    "\n"
   ]
  },
  {
   "cell_type": "code",
   "execution_count": 75,
   "metadata": {},
   "outputs": [
    {
     "data": {
      "text/plain": [
       "['Manchester', 'Liverpool', 'Barcelona']"
      ]
     },
     "execution_count": 75,
     "metadata": {},
     "output_type": "execute_result"
    }
   ],
   "source": [
    "pattern = re.compile(r'club: (\\w+)',re.M|re.I)\n",
    "pattern.findall(txt)"
   ]
  },
  {
   "cell_type": "code",
   "execution_count": 76,
   "metadata": {},
   "outputs": [
    {
     "data": {
      "text/plain": [
       "['Manchester United', 'Liverpool', 'Barcelona']"
      ]
     },
     "execution_count": 76,
     "metadata": {},
     "output_type": "execute_result"
    }
   ],
   "source": [
    "#The question is.. Since + is non greedy character it should go upto final d of United\n",
    "# BUt it didn't why? The question remains\n",
    "# so we do\n",
    "pattern = re.compile(r'club: (.+)',re.M|re.I)\n",
    "pattern.findall(txt)"
   ]
  },
  {
   "cell_type": "markdown",
   "metadata": {},
   "source": [
    "# Can we BACKREFERENCE? \n",
    "specify the contents of an earlier capturing group must also be found at current location as well. \n",
    "<br>\n",
    "For example, \\1 will succeed if exact contents of group 1 can be found at current position"
   ]
  },
  {
   "cell_type": "code",
   "execution_count": 34,
   "metadata": {},
   "outputs": [
    {
     "data": {
      "text/plain": [
       "['words', 'race']"
      ]
     },
     "execution_count": 34,
     "metadata": {},
     "output_type": "execute_result"
    }
   ],
   "source": [
    "txt = '''repeated words words race race'''\n",
    "\n",
    "pattern = re.compile(r'(\\w+) \\1',re.M|re.I)\n",
    "pattern.findall(txt)\n",
    "#We have our group as \\w+ (word).. It is the first group, so \n",
    "# our regex matches for same \\w+ and space and \\1 after that"
   ]
  },
  {
   "cell_type": "code",
   "execution_count": 38,
   "metadata": {},
   "outputs": [
    {
     "data": {
      "text/plain": [
       "['s', 'h']"
      ]
     },
     "execution_count": 38,
     "metadata": {},
     "output_type": "execute_result"
    }
   ],
   "source": [
    "txt = '''repeated sshh words words race race'''\n",
    "pattern = re.compile(r'(\\w)\\1',re.I)\n",
    "pattern.findall(txt)\n",
    "# It found letters that come one after another. "
   ]
  },
  {
   "cell_type": "markdown",
   "metadata": {},
   "source": [
    "# Named Groups\n",
    "Groups kind of like play big game, but I am sick of it\n",
    "<br>\n",
    "I have been using \\1 for groups. \n",
    "<br>\n",
    "<br>\n",
    "Let me give it a name"
   ]
  },
  {
   "cell_type": "code",
   "execution_count": 45,
   "metadata": {},
   "outputs": [],
   "source": [
    "txt = 'Sanjiv Gautam'\n",
    "pattern = re.compile(r'(?P<firstName>\\w+) (?P<lastName>\\w+)')\n",
    "#SYNTAX is (?P<firstName>regex_op)\n",
    "#Not so important as far as I am concerned, so I am out!\n",
    "#match.group(firstName)"
   ]
  },
  {
   "cell_type": "markdown",
   "metadata": {},
   "source": [
    "# Non Capturing Groups"
   ]
  },
  {
   "cell_type": "code",
   "execution_count": 62,
   "metadata": {},
   "outputs": [
    {
     "data": {
      "text/plain": [
       "['cats', 'dogs']"
      ]
     },
     "execution_count": 62,
     "metadata": {},
     "output_type": "execute_result"
    }
   ],
   "source": [
    "txt = '''\n",
    "I love cats \n",
    "I love dogs\n",
    "'''\n",
    "pattern = re.compile(r'I love (cats|dogs)',re.M)\n",
    "pattern.findall(txt)"
   ]
  },
  {
   "cell_type": "code",
   "execution_count": 63,
   "metadata": {},
   "outputs": [
    {
     "name": "stdout",
     "output_type": "stream",
     "text": [
      "I love cats\n",
      "cats\n",
      "I love dogs\n",
      "dogs\n"
     ]
    }
   ],
   "source": [
    "for match in pattern.finditer(txt):\n",
    "    print(match.group(0))\n",
    "    print(match.group(1))"
   ]
  },
  {
   "cell_type": "code",
   "execution_count": 64,
   "metadata": {},
   "outputs": [
    {
     "data": {
      "text/plain": [
       "['I love cats', 'I love dogs']"
      ]
     },
     "execution_count": 64,
     "metadata": {},
     "output_type": "execute_result"
    }
   ],
   "source": [
    "#How about we get the whole text instead of just one word? \n",
    "pattern  = re.compile(r'I love (?:cats|dogs)',re.M|re.I)\n",
    "pattern.findall(txt)"
   ]
  },
  {
   "cell_type": "markdown",
   "metadata": {},
   "source": [
    "# Look ahead (FINALLY, ITS BULLSHIT)\n",
    "look ahead from current position"
   ]
  },
  {
   "cell_type": "code",
   "execution_count": 65,
   "metadata": {},
   "outputs": [],
   "source": [
    "txt = 'red green blue'\n",
    "#If we want to find the word green here we might do something like\n",
    "# re.compile(r'\\bgreen\\b') where \\b is zero width assertion\n",
    "# so look around will check around the word and that won't be part of \n",
    "# regular expression outcome like \\b \n"
   ]
  },
  {
   "cell_type": "code",
   "execution_count": 68,
   "metadata": {},
   "outputs": [],
   "source": [
    "# It has 2 parts\n",
    "    # Actual Expression\n",
    "    # Non cusming expression  '(kjasdfa)green(adfasdf)'\n",
    "        # those inside bracket is for look around expressions\n",
    "        # if those inside () succeeds, then only we look for green inside regular\n",
    "        #expressions\n",
    "    # Its syntax is (?=) "
   ]
  },
  {
   "cell_type": "code",
   "execution_count": 104,
   "metadata": {},
   "outputs": [
    {
     "data": {
      "text/plain": [
       "['love']"
      ]
     },
     "execution_count": 104,
     "metadata": {},
     "output_type": "execute_result"
    }
   ],
   "source": [
    "# find love if it is followed by regex!!\n",
    "txt2 = 'I love python , I love regex'\n",
    "pattern = re.compile(r'love(?=\\sregex)')\n",
    "pattern.findall(txt2)"
   ]
  },
  {
   "cell_type": "code",
   "execution_count": 79,
   "metadata": {},
   "outputs": [
    {
     "data": {
      "text/plain": [
       "<re.Match object; span=(17, 27), match='love regex'>"
      ]
     },
     "execution_count": 79,
     "metadata": {},
     "output_type": "execute_result"
    }
   ],
   "source": [
    "# could have done this too! But you know, the upper one is considered advanced!!!!\n",
    "pattern  = re.compile(r'(love) regex')\n",
    "pattern.search(txt)"
   ]
  },
  {
   "cell_type": "code",
   "execution_count": 91,
   "metadata": {},
   "outputs": [
    {
     "data": {
      "text/plain": [
       "['red', 'green', 'blue']"
      ]
     },
     "execution_count": 91,
     "metadata": {},
     "output_type": "execute_result"
    }
   ],
   "source": [
    "#Find al the words in the given text that is followed by , or .\n",
    "txt = 'My favorite colors are red, green, and blue.'\n",
    "pattern = re.compile(r'(\\w+)[,|.]')\n",
    "pattern.findall(txt)"
   ]
  },
  {
   "cell_type": "code",
   "execution_count": 92,
   "metadata": {},
   "outputs": [
    {
     "data": {
      "text/plain": [
       "['red', 'green', 'blue']"
      ]
     },
     "execution_count": 92,
     "metadata": {},
     "output_type": "execute_result"
    }
   ],
   "source": [
    "#other way of doing is\n",
    "pattern = re.compile(r'\\w+(?=,|\\.)')\n",
    "pattern.findall(txt)\n",
    "# we select letters that is followed up by zero assertion width of \n",
    "#our words!! "
   ]
  },
  {
   "cell_type": "markdown",
   "metadata": {},
   "source": [
    "# Negative Look Ahead\n"
   ]
  },
  {
   "cell_type": "code",
   "execution_count": 108,
   "metadata": {},
   "outputs": [
    {
     "name": "stdout",
     "output_type": "stream",
     "text": [
      "I love python , I love regex\n"
     ]
    },
    {
     "data": {
      "text/plain": [
       "<re.Match object; span=(2, 6), match='love'>"
      ]
     },
     "execution_count": 108,
     "metadata": {},
     "output_type": "execute_result"
    }
   ],
   "source": [
    "print(txt2)\n",
    "pattern = re.compile(r'love(?!\\sregex)')\n",
    "pattern.search(txt2)\n",
    "# See love from 2,6 all words that has love and not followed by regex!"
   ]
  },
  {
   "cell_type": "code",
   "execution_count": null,
   "metadata": {},
   "outputs": [],
   "source": []
  }
 ],
 "metadata": {
  "kernelspec": {
   "display_name": "Python 3",
   "language": "python",
   "name": "python3"
  },
  "language_info": {
   "codemirror_mode": {
    "name": "ipython",
    "version": 3
   },
   "file_extension": ".py",
   "mimetype": "text/x-python",
   "name": "python",
   "nbconvert_exporter": "python",
   "pygments_lexer": "ipython3",
   "version": "3.7.4"
  }
 },
 "nbformat": 4,
 "nbformat_minor": 2
}
